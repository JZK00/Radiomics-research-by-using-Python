{
 "cells": [
  {
   "cell_type": "code",
   "execution_count": 2,
   "metadata": {},
   "outputs": [],
   "source": [
    "import numpy as np\n",
    "from matplotlib import pyplot as plt\n",
    "import scipy.stats as st\n",
    "from sklearn import metrics\n",
    "import pandas as pd"
   ]
  },
  {
   "cell_type": "code",
   "execution_count": 3,
   "metadata": {},
   "outputs": [],
   "source": [
    "class DelongTest():\n",
    "    def __init__(self,preds1,preds2,label,threshold=0.05):\n",
    "        '''\n",
    "        preds1:the output of model1\n",
    "        preds2:the output of model2\n",
    "        label :the actual label\n",
    "        '''\n",
    "        self._preds1=preds1\n",
    "        self._preds2=preds2\n",
    "        self._label=label\n",
    "        self.threshold=threshold\n",
    "        self._show_result()\n",
    "\n",
    "    def _auc(self,X, Y)->float:\n",
    "        return 1/(len(X)*len(Y)) * sum([self._kernel(x, y) for x in X for y in Y])\n",
    "\n",
    "    def _kernel(self,X, Y)->float:\n",
    "        '''\n",
    "        Mann-Whitney statistic\n",
    "        '''\n",
    "        return .5 if Y==X else int(Y < X)\n",
    "\n",
    "    def _structural_components(self,X, Y)->list:\n",
    "        V10 = [1/len(Y) * sum([self._kernel(x, y) for y in Y]) for x in X]\n",
    "        V01 = [1/len(X) * sum([self._kernel(x, y) for x in X]) for y in Y]\n",
    "        return V10, V01\n",
    "\n",
    "    def _get_S_entry(self,V_A, V_B, auc_A, auc_B)->float:\n",
    "        return 1/(len(V_A)-1) * sum([(a-auc_A)*(b-auc_B) for a,b in zip(V_A, V_B)])\n",
    "    \n",
    "    def _z_score(self,var_A, var_B, covar_AB, auc_A, auc_B):\n",
    "        return (auc_A - auc_B)/((var_A + var_B - 2*covar_AB )**(.5)+ 1e-8)\n",
    "\n",
    "    def _group_preds_by_label(self,preds, actual)->list:\n",
    "        X = [p for (p, a) in zip(preds, actual) if a]\n",
    "        Y = [p for (p, a) in zip(preds, actual) if not a]\n",
    "        return X, Y\n",
    "\n",
    "    def _compute_z_p(self):\n",
    "        X_A, Y_A = self._group_preds_by_label(self._preds1, self._label)\n",
    "        X_B, Y_B = self._group_preds_by_label(self._preds2, self._label)\n",
    "\n",
    "        V_A10, V_A01 = self._structural_components(X_A, Y_A)\n",
    "        V_B10, V_B01 = self._structural_components(X_B, Y_B)\n",
    "\n",
    "        auc_A = self._auc(X_A, Y_A)\n",
    "        auc_B = self._auc(X_B, Y_B)\n",
    "\n",
    "        # Compute entries of covariance matrix S (covar_AB = covar_BA)\n",
    "        var_A = (self._get_S_entry(V_A10, V_A10, auc_A, auc_A) * 1/len(V_A10)+ self._get_S_entry(V_A01, V_A01, auc_A, auc_A) * 1/len(V_A01))\n",
    "        var_B = (self._get_S_entry(V_B10, V_B10, auc_B, auc_B) * 1/len(V_B10)+ self._get_S_entry(V_B01, V_B01, auc_B, auc_B) * 1/len(V_B01))\n",
    "        covar_AB = (self._get_S_entry(V_A10, V_B10, auc_A, auc_B) * 1/len(V_A10)+ self._get_S_entry(V_A01, V_B01, auc_A, auc_B) * 1/len(V_A01))\n",
    "\n",
    "        # Two tailed test\n",
    "        z = self._z_score(var_A, var_B, covar_AB, auc_A, auc_B)\n",
    "        p = st.norm.sf(abs(z))*2\n",
    "\n",
    "        return z,p\n",
    "\n",
    "    def _show_result(self):\n",
    "        z,p=self._compute_z_p()\n",
    "        print(f\"z score = {z:.5f};\\np value = {p:.5f};\")\n",
    "        if p < self.threshold :print(\"There is a significant difference\")\n",
    "        else:        print(\"There is NO significant difference\")\n"
   ]
  },
  {
   "cell_type": "code",
   "execution_count": 4,
   "metadata": {},
   "outputs": [
    {
     "name": "stdout",
     "output_type": "stream",
     "text": [
      "z score = -3.35876;\n",
      "p value = 0.00078;\n",
      "There is a significant difference\n"
     ]
    },
    {
     "data": {
      "text/plain": [
       "<__main__.DelongTest at 0x17fd34a7d68>"
      ]
     },
     "execution_count": 4,
     "metadata": {},
     "output_type": "execute_result"
    }
   ],
   "source": [
    "# for example\n",
    "# Model A (random) vs. \"good\" model B\n",
    "preds_A = np.array([.5, .5, .5, .5, .5, .5, .5, .5, .5, .5])\n",
    "preds_B = np.array([.2, .5, .1, .4, .9, .8, .7, .5, .9, .8])\n",
    "actual=    np.array([0, 0, 0, 0, 1, 0, 1, 1, 1, 1])\n",
    "DelongTest(preds_A,preds_B,actual)"
   ]
  },
  {
   "cell_type": "markdown",
   "metadata": {},
   "source": [
    "## Our predicted data"
   ]
  },
  {
   "cell_type": "code",
   "execution_count": 5,
   "metadata": {},
   "outputs": [
    {
     "name": "stdout",
     "output_type": "stream",
     "text": [
      "<class 'pandas.core.frame.DataFrame'>\n",
      "RangeIndex: 96 entries, 0 to 95\n",
      "Data columns (total 7 columns):\n",
      " #   Column         Non-Null Count  Dtype  \n",
      "---  ------         --------------  -----  \n",
      " 0   ID             96 non-null     int64  \n",
      " 1   Group          96 non-null     int64  \n",
      " 2   检查时间           96 non-null     object \n",
      " 3   End            96 non-null     int64  \n",
      " 4   combine_pre    96 non-null     float64\n",
      " 5   radiomics_pre  96 non-null     float64\n",
      " 6   clinical_pre   96 non-null     float64\n",
      "dtypes: float64(3), int64(3), object(1)\n",
      "memory usage: 5.4+ KB\n"
     ]
    }
   ],
   "source": [
    "df = pd.read_csv('./predictions.csv',encoding='gbk')\n",
    "df.info()"
   ]
  },
  {
   "cell_type": "code",
   "execution_count": 6,
   "metadata": {},
   "outputs": [
    {
     "data": {
      "text/html": [
       "<div>\n",
       "<style scoped>\n",
       "    .dataframe tbody tr th:only-of-type {\n",
       "        vertical-align: middle;\n",
       "    }\n",
       "\n",
       "    .dataframe tbody tr th {\n",
       "        vertical-align: top;\n",
       "    }\n",
       "\n",
       "    .dataframe thead th {\n",
       "        text-align: right;\n",
       "    }\n",
       "</style>\n",
       "<table border=\"1\" class=\"dataframe\">\n",
       "  <thead>\n",
       "    <tr style=\"text-align: right;\">\n",
       "      <th></th>\n",
       "      <th>ID</th>\n",
       "      <th>Group</th>\n",
       "      <th>检查时间</th>\n",
       "      <th>End</th>\n",
       "      <th>combine_pre</th>\n",
       "      <th>radiomics_pre</th>\n",
       "      <th>clinical_pre</th>\n",
       "    </tr>\n",
       "  </thead>\n",
       "  <tbody>\n",
       "    <tr>\n",
       "      <th>0</th>\n",
       "      <td>151</td>\n",
       "      <td>1</td>\n",
       "      <td>2012/1/17</td>\n",
       "      <td>0</td>\n",
       "      <td>0.02006</td>\n",
       "      <td>0.36242</td>\n",
       "      <td>0.02576</td>\n",
       "    </tr>\n",
       "    <tr>\n",
       "      <th>1</th>\n",
       "      <td>23</td>\n",
       "      <td>1</td>\n",
       "      <td>2013/5/31</td>\n",
       "      <td>0</td>\n",
       "      <td>0.56533</td>\n",
       "      <td>0.56366</td>\n",
       "      <td>0.90391</td>\n",
       "    </tr>\n",
       "    <tr>\n",
       "      <th>2</th>\n",
       "      <td>152</td>\n",
       "      <td>1</td>\n",
       "      <td>2013/7/5</td>\n",
       "      <td>0</td>\n",
       "      <td>0.78507</td>\n",
       "      <td>0.09873</td>\n",
       "      <td>0.93959</td>\n",
       "    </tr>\n",
       "    <tr>\n",
       "      <th>3</th>\n",
       "      <td>29</td>\n",
       "      <td>1</td>\n",
       "      <td>2013/10/24</td>\n",
       "      <td>1</td>\n",
       "      <td>0.89326</td>\n",
       "      <td>0.90853</td>\n",
       "      <td>0.81419</td>\n",
       "    </tr>\n",
       "    <tr>\n",
       "      <th>4</th>\n",
       "      <td>53</td>\n",
       "      <td>1</td>\n",
       "      <td>2013/11/26</td>\n",
       "      <td>0</td>\n",
       "      <td>0.18475</td>\n",
       "      <td>0.08831</td>\n",
       "      <td>0.28709</td>\n",
       "    </tr>\n",
       "  </tbody>\n",
       "</table>\n",
       "</div>"
      ],
      "text/plain": [
       "    ID  Group        检查时间  End  combine_pre  radiomics_pre  clinical_pre\n",
       "0  151      1   2012/1/17    0      0.02006        0.36242       0.02576\n",
       "1   23      1   2013/5/31    0      0.56533        0.56366       0.90391\n",
       "2  152      1    2013/7/5    0      0.78507        0.09873       0.93959\n",
       "3   29      1  2013/10/24    1      0.89326        0.90853       0.81419\n",
       "4   53      1  2013/11/26    0      0.18475        0.08831       0.28709"
      ]
     },
     "execution_count": 6,
     "metadata": {},
     "output_type": "execute_result"
    }
   ],
   "source": [
    "df.head()"
   ]
  },
  {
   "cell_type": "code",
   "execution_count": 7,
   "metadata": {},
   "outputs": [],
   "source": [
    "X1 = df.iloc[:, 4].values\n",
    "X2 = df.iloc[:, 5].values\n",
    "X3 = df.iloc[:, 6].values\n",
    "y = df.iloc[:, 3].values"
   ]
  },
  {
   "cell_type": "code",
   "execution_count": 8,
   "metadata": {},
   "outputs": [
    {
     "data": {
      "text/plain": [
       "array([0, 0, 0, 1, 0, 0, 0, 1, 0, 1, 1, 0, 0, 1, 0, 0, 1, 0, 0, 1, 1, 0,\n",
       "       0, 1, 0, 0, 0, 0, 0, 1, 0, 0, 0, 0, 1, 0, 0, 0, 0, 0, 1, 0, 0, 0,\n",
       "       0, 0, 1, 0, 1, 0, 0, 0, 1, 1, 0, 0, 0, 0, 0, 0, 1, 0, 1, 0, 0, 0,\n",
       "       1, 0, 0, 0, 0, 0, 0, 0, 0, 0, 1, 0, 0, 0, 0, 0, 0, 0, 0, 1, 0, 0,\n",
       "       0, 0, 0, 0, 0, 0, 0, 0], dtype=int64)"
      ]
     },
     "execution_count": 8,
     "metadata": {},
     "output_type": "execute_result"
    }
   ],
   "source": [
    "y"
   ]
  },
  {
   "cell_type": "code",
   "execution_count": 9,
   "metadata": {},
   "outputs": [
    {
     "data": {
      "text/plain": [
       "array([0.02006, 0.56533, 0.78507, 0.89326, 0.18475, 0.26267, 0.00711,\n",
       "       0.88963, 0.02004, 0.5    , 0.90903, 0.02006, 0.02005, 0.38687,\n",
       "       0.01859, 0.02006, 0.93368, 0.01068, 0.02003, 0.93418, 0.07652,\n",
       "       0.04501, 0.64736, 0.9155 , 0.02005, 0.0583 , 0.04508, 0.2253 ,\n",
       "       0.58377, 0.92795, 0.02006, 0.02003, 0.02005, 0.40678, 0.62657,\n",
       "       0.01158, 0.03999, 0.17422, 0.02003, 0.8207 , 0.93519, 0.08522,\n",
       "       0.01932, 0.03779, 0.02004, 0.02004, 0.80417, 0.02003, 0.06928,\n",
       "       0.02003, 0.08664, 0.06612, 0.10816, 0.77946, 0.02671, 0.35094,\n",
       "       0.01052, 0.01853, 0.02367, 0.02007, 0.9248 , 0.01434, 0.93517,\n",
       "       0.07418, 0.01323, 0.19348, 0.93521, 0.02003, 0.0631 , 0.64404,\n",
       "       0.00405, 0.02007, 0.01029, 0.02475, 0.01216, 0.0103 , 0.32335,\n",
       "       0.14368, 0.30943, 0.05924, 0.09393, 0.05163, 0.02003, 0.00864,\n",
       "       0.02008, 0.93518, 0.43701, 0.02003, 0.14949, 0.019  , 0.02002,\n",
       "       0.0242 , 0.00472, 0.07084, 0.02006, 0.0715 ])"
      ]
     },
     "execution_count": 9,
     "metadata": {},
     "output_type": "execute_result"
    }
   ],
   "source": [
    "X1"
   ]
  },
  {
   "cell_type": "code",
   "execution_count": 10,
   "metadata": {},
   "outputs": [
    {
     "data": {
      "text/plain": [
       "array([0.36242, 0.56366, 0.09873, 0.90853, 0.08831, 0.05771, 0.02249,\n",
       "       0.68034, 0.02915, 0.86306, 0.88526, 0.0165 , 0.42651, 0.59631,\n",
       "       0.01652, 0.04372, 0.91938, 0.61257, 0.03449, 0.90397, 0.42509,\n",
       "       0.07525, 0.83874, 0.89176, 0.00649, 0.06251, 0.2853 , 0.17889,\n",
       "       0.80948, 0.9151 , 0.01651, 0.06184, 0.01653, 0.51094, 0.81021,\n",
       "       0.00365, 0.14122, 0.01515, 0.01649, 0.61438, 0.91933, 0.05154,\n",
       "       0.11385, 0.15279, 0.04439, 0.00848, 0.90481, 0.04694, 0.09002,\n",
       "       0.0165 , 0.15405, 0.0748 , 0.54815, 0.87318, 0.04179, 0.51197,\n",
       "       0.00795, 0.00824, 0.04594, 0.02063, 0.91208, 0.00348, 0.91986,\n",
       "       0.02895, 0.11767, 0.26842, 0.9194 , 0.34698, 0.19014, 0.7206 ,\n",
       "       0.00276, 0.12501, 0.01288, 0.07841, 0.28278, 0.0165 , 0.91802,\n",
       "       0.31487, 0.55986, 0.05289, 0.22938, 0.32969, 0.01651, 0.45771,\n",
       "       0.0165 , 0.91916, 0.48789, 0.01651, 0.65814, 0.01688, 0.00259,\n",
       "       0.457  , 0.02178, 0.03257, 0.07779, 0.13095])"
      ]
     },
     "execution_count": 10,
     "metadata": {},
     "output_type": "execute_result"
    }
   ],
   "source": [
    "X2"
   ]
  },
  {
   "cell_type": "code",
   "execution_count": 11,
   "metadata": {},
   "outputs": [
    {
     "data": {
      "text/plain": [
       "array([0.02576, 0.90391, 0.93959, 0.81419, 0.28709, 0.33502, 0.01782,\n",
       "       0.90257, 0.03336, 0.16511, 0.89784, 0.02571, 0.00719, 0.79876,\n",
       "       0.02488, 0.02575, 0.91444, 0.0107 , 0.01894, 0.92663, 0.03637,\n",
       "       0.05994, 0.82365, 0.92508, 0.02574, 0.1005 , 0.02577, 0.24771,\n",
       "       0.38325, 0.92666, 0.02305, 0.03669, 0.02575, 0.48447, 0.73888,\n",
       "       0.02574, 0.0351 , 0.28999, 0.02576, 0.75926, 0.92661, 0.21088,\n",
       "       0.00969, 0.03201, 0.02577, 0.01792, 0.52903, 0.01693, 0.07229,\n",
       "       0.0257 , 0.012  , 0.11111, 0.04429, 0.81189, 0.02572, 0.5    ,\n",
       "       0.02176, 0.02171, 0.06719, 0.02573, 0.92134, 0.02572, 0.92662,\n",
       "       0.10083, 0.01733, 0.32762, 0.88877, 0.01761, 0.1973 , 0.52144,\n",
       "       0.00862, 0.02573, 0.01712, 0.04605, 0.01028, 0.01724, 0.14482,\n",
       "       0.09337, 0.46774, 0.09916, 0.04132, 0.08225, 0.02572, 0.01466,\n",
       "       0.02301, 0.92666, 0.88778, 0.02482, 0.0708 , 0.01635, 0.02575,\n",
       "       0.02144, 0.00907, 0.05011, 0.02578, 0.09093])"
      ]
     },
     "execution_count": 11,
     "metadata": {},
     "output_type": "execute_result"
    }
   ],
   "source": [
    "X3"
   ]
  },
  {
   "cell_type": "code",
   "execution_count": 12,
   "metadata": {},
   "outputs": [
    {
     "name": "stdout",
     "output_type": "stream",
     "text": [
      "z score = -1.14365;\n",
      "p value = 0.25277;\n",
      "There is NO significant difference\n"
     ]
    },
    {
     "data": {
      "text/plain": [
       "<__main__.DelongTest at 0x17fd34e4160>"
      ]
     },
     "execution_count": 12,
     "metadata": {},
     "output_type": "execute_result"
    }
   ],
   "source": [
    "DelongTest(X1,X2,y)"
   ]
  },
  {
   "cell_type": "code",
   "execution_count": 13,
   "metadata": {},
   "outputs": [
    {
     "name": "stdout",
     "output_type": "stream",
     "text": [
      "z score = 2.45566;\n",
      "p value = 0.01406;\n",
      "There is a significant difference\n"
     ]
    },
    {
     "data": {
      "text/plain": [
       "<__main__.DelongTest at 0x17fd34e4278>"
      ]
     },
     "execution_count": 13,
     "metadata": {},
     "output_type": "execute_result"
    }
   ],
   "source": [
    "DelongTest(X1,X3,y)"
   ]
  },
  {
   "cell_type": "code",
   "execution_count": 14,
   "metadata": {},
   "outputs": [
    {
     "name": "stdout",
     "output_type": "stream",
     "text": [
      "z score = 2.06336;\n",
      "p value = 0.03908;\n",
      "There is a significant difference\n"
     ]
    },
    {
     "data": {
      "text/plain": [
       "<__main__.DelongTest at 0x17fd34e44a8>"
      ]
     },
     "execution_count": 14,
     "metadata": {},
     "output_type": "execute_result"
    }
   ],
   "source": [
    "DelongTest(X2,X3,y)"
   ]
  },
  {
   "cell_type": "code",
   "execution_count": null,
   "metadata": {},
   "outputs": [],
   "source": []
  }
 ],
 "metadata": {
  "kernelspec": {
   "display_name": "Python 36",
   "language": "python",
   "name": "python3"
  },
  "language_info": {
   "codemirror_mode": {
    "name": "ipython",
    "version": 3
   },
   "file_extension": ".py",
   "mimetype": "text/x-python",
   "name": "python",
   "nbconvert_exporter": "python",
   "pygments_lexer": "ipython3",
   "version": "3.6.6rc1"
  }
 },
 "nbformat": 4,
 "nbformat_minor": 2
}
