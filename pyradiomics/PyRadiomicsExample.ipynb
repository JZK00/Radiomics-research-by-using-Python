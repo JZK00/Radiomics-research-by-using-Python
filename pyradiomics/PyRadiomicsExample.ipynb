{
 "cells": [
  {
   "cell_type": "markdown",
   "metadata": {},
   "source": [
    "# Example of using the PyRadiomics toolbox in Python"
   ]
  },
  {
   "cell_type": "markdown",
   "metadata": {},
   "source": [
    "First, import some built-in Python modules needed to get our testing data.\n",
    "Second, import the toolbox, only the `featureextractor` is needed, this module handles the interaction with other parts of the toolbox."
   ]
  },
  {
   "cell_type": "code",
   "execution_count": 1,
   "metadata": {
    "collapsed": true
   },
   "outputs": [],
   "source": [
    "from __future__ import print_function\n",
    "import six\n",
    "import os  # needed navigate the system to get the input data\n",
    "\n",
    "import radiomics\n",
    "from radiomics import featureextractor  # This module is used for interaction with pyradiomics"
   ]
  },
  {
   "cell_type": "markdown",
   "metadata": {},
   "source": [
    "### Setting up data"
   ]
  },
  {
   "cell_type": "markdown",
   "metadata": {},
   "source": [
    "Test cases can be downloaded to temporary files. This is handled by the `radiomics.getTestCase()` function, which checks if the requested test case is available and if not, downloads it. It returns a tuple with the location of the image and mask of the requested test case, or (None, None) if it fails.\n",
    "\n",
    "Alternatively, if the data is available somewhere locally, this directory can be passed as a second argument to `radiomics.getTestCase()`. If that directory does not exist or does not contain the testcase, functionality reverts to default and tries to download the test data.\n",
    "\n",
    "If getting the test case fails, PyRadiomics will log an error explaining the cause."
   ]
  },
  {
   "cell_type": "code",
   "execution_count": 2,
   "metadata": {},
   "outputs": [
    {
     "name": "stdout",
     "output_type": "stream",
     "text": [
      "Parameter file, absolute path: E:\\Git-Repos\\pyradiomics\\examples\\exampleSettings\\Params.yaml\n"
     ]
    }
   ],
   "source": [
    "# Get the testCase\n",
    "imagePath, maskPath = radiomics.getTestCase('brain1')\n",
    "\n",
    "if imagePath is None or maskPath is None:  # Something went wrong, in this case PyRadiomics will also log an error\n",
    "    raise Exception('Error getting testcase!')  # Raise exception to prevent cells below from running in case of \"run all\"\n",
    "\n",
    "# Additonally, store the location of the example parameter file, stored in \\pyradiomics\\examples/exampleSettings\n",
    "paramPath = os.path.join('..', 'examples', 'exampleSettings', 'Params.yaml')\n",
    "print('Parameter file, absolute path:', os.path.abspath(paramPath))"
   ]
  },
  {
   "cell_type": "markdown",
   "metadata": {},
   "source": [
    "### Instantiating the extractor"
   ]
  },
  {
   "cell_type": "markdown",
   "metadata": {},
   "source": [
    "Now that we have our input, we need to define the parameters and instantiate the extractor.\n",
    "For this there are three possibilities:\n",
    "\n",
    "1. Use defaults, don't define custom settings\n",
    "\n",
    "2. Define parameters in a dictionary, control filters and features after initialisation\n",
    "\n",
    "3. Use a parameter file"
   ]
  },
  {
   "cell_type": "markdown",
   "metadata": {},
   "source": [
    "##### Method 1, use defaults"
   ]
  },
  {
   "cell_type": "code",
   "execution_count": 3,
   "metadata": {},
   "outputs": [
    {
     "name": "stdout",
     "output_type": "stream",
     "text": [
      "Extraction parameters:\n",
      "\t {'normalize': False, 'distances': [1], 'enableCExtensions': True, 'removeOutliers': None, 'minimumROISize': None, 'force2Ddimension': 0, 'label': 1, 'padDistance': 5, 'force2D': False, 'interpolator': 'sitkBSpline', 'preCrop': False, 'resampledPixelSpacing': None, 'resegmentRange': None, 'minimumROIDimensions': 1, 'additionalInfo': True, 'normalizeScale': 1}\n",
      "Enabled filters:\n",
      "\t {'Original': {}}\n",
      "Enabled features:\n",
      "\t {'gldm': [], 'glcm': [], 'shape': [], 'firstorder': [], 'glrlm': [], 'glszm': [], 'ngtdm': []}\n"
     ]
    }
   ],
   "source": [
    "# Instantiate the extractor\n",
    "extractor = featureextractor.RadiomicsFeaturesExtractor()\n",
    "\n",
    "print('Extraction parameters:\\n\\t', extractor.settings)\n",
    "print('Enabled filters:\\n\\t', extractor._enabledImagetypes)\n",
    "print('Enabled features:\\n\\t', extractor._enabledFeatures)"
   ]
  },
  {
   "cell_type": "markdown",
   "metadata": {},
   "source": [
    "##### Method 2, hard-coded settings:"
   ]
  },
  {
   "cell_type": "code",
   "execution_count": 4,
   "metadata": {},
   "outputs": [
    {
     "name": "stdout",
     "output_type": "stream",
     "text": [
      "Extraction parameters:\n",
      "\t {'normalize': False, 'distances': [1], 'enableCExtensions': True, 'removeOutliers': None, 'minimumROISize': None, 'binWidth': 20, 'force2Ddimension': 0, 'label': 1, 'padDistance': 5, 'force2D': False, 'interpolator': 'sitkBSpline', 'preCrop': False, 'resampledPixelSpacing': None, 'resegmentRange': None, 'sigma': [1, 2, 3], 'minimumROIDimensions': 1, 'additionalInfo': True, 'normalizeScale': 1}\n",
      "Enabled filters:\n",
      "\t {'Original': {}}\n",
      "Enabled features:\n",
      "\t {'gldm': [], 'glcm': [], 'shape': [], 'firstorder': [], 'glrlm': [], 'glszm': [], 'ngtdm': []}\n"
     ]
    }
   ],
   "source": [
    "# First define the settings\n",
    "settings = {}\n",
    "settings['binWidth'] = 20\n",
    "settings['sigma'] = [1, 2, 3]\n",
    "\n",
    "# Instantiate the extractor\n",
    "extractor = featureextractor.RadiomicsFeaturesExtractor(**settings)  # ** 'unpacks' the dictionary in the function call\n",
    "\n",
    "print('Extraction parameters:\\n\\t', extractor.settings)\n",
    "print('Enabled filters:\\n\\t', extractor._enabledImagetypes)  # Still the default parameters\n",
    "print('Enabled features:\\n\\t', extractor._enabledFeatures)  # Still the default parameters"
   ]
  },
  {
   "cell_type": "code",
   "execution_count": 5,
   "metadata": {},
   "outputs": [
    {
     "name": "stdout",
     "output_type": "stream",
     "text": [
      "Extraction parameters:\n",
      "\t {'normalize': False, 'distances': [1], 'enableCExtensions': True, 'removeOutliers': None, 'minimumROISize': None, 'binWidth': 20, 'force2Ddimension': 0, 'label': 1, 'padDistance': 5, 'force2D': False, 'interpolator': 'sitkBSpline', 'preCrop': False, 'resampledPixelSpacing': None, 'resegmentRange': None, 'sigma': [1, 2, 3], 'minimumROIDimensions': 1, 'additionalInfo': True, 'normalizeScale': 1}\n",
      "Enabled filters:\n",
      "\t {'Original': {}}\n",
      "Enabled features:\n",
      "\t {'gldm': [], 'glcm': [], 'shape': [], 'firstorder': [], 'glrlm': [], 'glszm': [], 'ngtdm': []}\n"
     ]
    }
   ],
   "source": [
    "# This cell is equivalent to the previous cell\n",
    "extractor = featureextractor.RadiomicsFeaturesExtractor(binWidth=20, sigma=[1, 2, 3])  # Equivalent of code above\n",
    "\n",
    "print('Extraction parameters:\\n\\t', extractor.settings)\n",
    "print('Enabled filters:\\n\\t', extractor._enabledImagetypes)  # Still the default parameters\n",
    "print('Enabled features:\\n\\t', extractor._enabledFeatures)  # Still the default parameters"
   ]
  },
  {
   "cell_type": "code",
   "execution_count": 6,
   "metadata": {},
   "outputs": [
    {
     "name": "stdout",
     "output_type": "stream",
     "text": [
      "\n",
      "Enabled filters:\n",
      "\t {'Original': {}, 'LoG': {}}\n",
      "\n",
      "Enabled features:\n",
      "\t {'firstorder': []}\n",
      "\n",
      "Enabled features:\n",
      "\t {'firstorder': [], 'glcm': ['Autocorrelation', 'Homogeneity1', 'SumSquares']}\n"
     ]
    }
   ],
   "source": [
    "# Enable a filter (in addition to the 'Original' filter already enabled)\n",
    "extractor.enableImageTypeByName('LoG')\n",
    "print('')\n",
    "print('Enabled filters:\\n\\t', extractor._enabledImagetypes)\n",
    "\n",
    "# Disable all feature classes, save firstorder\n",
    "extractor.disableAllFeatures()\n",
    "extractor.enableFeatureClassByName('firstorder')\n",
    "print('')\n",
    "print('Enabled features:\\n\\t', extractor._enabledFeatures)\n",
    "\n",
    "# Specify some additional features in the GLCM feature class\n",
    "extractor.enableFeaturesByName(glcm=['Autocorrelation', 'Homogeneity1', 'SumSquares'])\n",
    "print('')\n",
    "print('Enabled features:\\n\\t', extractor._enabledFeatures)"
   ]
  },
  {
   "cell_type": "markdown",
   "metadata": {},
   "source": [
    "##### Method 3, using a parameter file"
   ]
  },
  {
   "cell_type": "code",
   "execution_count": 7,
   "metadata": {},
   "outputs": [
    {
     "name": "stdout",
     "output_type": "stream",
     "text": [
      "Extraction parameters:\n",
      "\t {'normalize': False, 'distances': [1], 'enableCExtensions': True, 'removeOutliers': None, 'minimumROISize': None, 'binWidth': 25, 'force2Ddimension': 0, 'label': 1, 'padDistance': 5, 'force2D': False, 'weightingNorm': None, 'interpolator': 'sitkBSpline', 'preCrop': False, 'resampledPixelSpacing': None, 'resegmentRange': None, 'minimumROIDimensions': 1, 'additionalInfo': True, 'normalizeScale': 1}\n",
      "Enabled filters:\n",
      "\t {'Original': {}}\n",
      "Enabled features:\n",
      "\t {'glcm': ['Autocorrelation', 'JointAverage', 'ClusterProminence', 'ClusterShade', 'ClusterTendency', 'Contrast', 'Correlation', 'DifferenceAverage', 'DifferenceEntropy', 'DifferenceVariance', 'JointEnergy', 'JointEntropy', 'Imc1', 'Imc2', 'Idm', 'Idmn', 'Id', 'Idn', 'InverseVariance', 'MaximumProbability', 'SumEntropy', 'SumSquares'], 'shape': None, 'gldm': None, 'firstorder': [], 'glrlm': None, 'glszm': None}\n"
     ]
    }
   ],
   "source": [
    "# Instantiate the extractor\n",
    "extractor = featureextractor.RadiomicsFeaturesExtractor(paramPath)\n",
    "\n",
    "print('Extraction parameters:\\n\\t', extractor.settings)\n",
    "print('Enabled filters:\\n\\t', extractor._enabledImagetypes)\n",
    "print('Enabled features:\\n\\t', extractor._enabledFeatures)"
   ]
  },
  {
   "cell_type": "markdown",
   "metadata": {
    "collapsed": true
   },
   "source": [
    "### Extract features"
   ]
  },
  {
   "cell_type": "markdown",
   "metadata": {},
   "source": [
    "Now that we have our extractor set up with the correct parameters, we can start extracting features:"
   ]
  },
  {
   "cell_type": "code",
   "execution_count": 8,
   "metadata": {},
   "outputs": [],
   "source": [
    "result = extractor.execute(imagePath, maskPath)"
   ]
  },
  {
   "cell_type": "code",
   "execution_count": 9,
   "metadata": {
    "scrolled": false
   },
   "outputs": [
    {
     "name": "stdout",
     "output_type": "stream",
     "text": [
      "Result type: <class 'collections.OrderedDict'>\n",
      "\n",
      "Calculated features\n",
      "\t general_info_BoundingBox : (162, 84, 11, 47, 70, 7)\n",
      "\t general_info_EnabledImageTypes : {'Original': {}}\n",
      "\t general_info_GeneralSettings : {'normalize': False, 'distances': [1], 'enableCExtensions': True, 'removeOutliers': None, 'minimumROISize': None, 'binWidth': 25, 'force2Ddimension': 0, 'label': 1, 'padDistance': 5, 'force2D': False, 'weightingNorm': None, 'interpolator': 'sitkBSpline', 'preCrop': False, 'resampledPixelSpacing': None, 'resegmentRange': None, 'minimumROIDimensions': 1, 'additionalInfo': True, 'normalizeScale': 1}\n",
      "\t general_info_ImageHash : 5c9ce3ca174f0f8324aa4d277e0fef82dc5ac566\n",
      "\t general_info_ImageSpacing : (0.7812499999999999, 0.7812499999999999, 6.499999999999998)\n",
      "\t general_info_MaskHash : 9dc2c3137b31fd872997d92c9a92d5178126d9d3\n",
      "\t general_info_NumpyVersion : 1.14.0\n",
      "\t general_info_PyWaveletVersion : 0.5.2\n",
      "\t general_info_SimpleITKVersion : 0.9.1\n",
      "\t general_info_Version : 1.3.0.post54.dev0+gc4759a4\n",
      "\t general_info_VolumeNum : 2\n",
      "\t general_info_VoxelNum : 4137\n",
      "\t original_shape_Maximum3DDiameter : 65.5366145873\n",
      "\t original_shape_Maximum2DDiameterSlice : 47.2187913633\n",
      "\t original_shape_Sphericity : 0.48506174422170256\n",
      "\t original_shape_MinorAxis : 34.849701666854735\n",
      "\t original_shape_Elongation : 0.5621171627174115\n",
      "\t original_shape_SurfaceVolumeRatio : 0.39230826186319245\n",
      "\t original_shape_Volume : 16412.658691406243\n",
      "\t original_shape_MajorAxis : 61.997220469808774\n",
      "\t original_shape_SurfaceArea : 6438.82160378\n",
      "\t original_shape_Flatness : 0.46105975346582545\n",
      "\t original_shape_LeastAxis : 28.584423185376462\n",
      "\t original_shape_Maximum2DDiameterColumn : 44.5487904052\n",
      "\t original_shape_Maximum2DDiameterRow : 61.5801767135\n",
      "\t original_glcm_JointAverage : 16.55380772442751\n",
      "\t original_glcm_JointEntropy : 8.799696270248813\n",
      "\t original_glcm_ClusterShade : 19.60508342728665\n",
      "\t original_glcm_MaximumProbability : 0.007352392266290182\n",
      "\t original_glcm_Idmn : 0.9614021696232272\n",
      "\t original_glcm_JointEnergy : 0.0028931492429888645\n",
      "\t original_glcm_Contrast : 47.492125114429776\n",
      "\t original_glcm_DifferenceEntropy : 3.744060978066421\n",
      "\t original_glcm_InverseVariance : 0.19881884197093197\n",
      "\t original_glcm_DifferenceVariance : 16.655637050270975\n",
      "\t original_glcm_Idn : 0.8726052157397166\n",
      "\t original_glcm_Idm : 0.200222556404757\n",
      "\t original_glcm_Correlation : 0.39175220066966604\n",
      "\t original_glcm_Autocorrelation : 289.543699401726\n",
      "\t original_glcm_SumEntropy : 5.354241321485615\n",
      "\t original_glcm_SumSquares : 39.05587959224221\n",
      "\t original_glcm_ClusterProminence : 27995.937591943148\n",
      "\t original_glcm_Imc2 : 0.6942249020670357\n",
      "\t original_glcm_Imc1 : -0.09438938808738298\n",
      "\t original_glcm_DifferenceAverage : 5.284468789866318\n",
      "\t original_glcm_Id : 0.28722572382985145\n",
      "\t original_glcm_ClusterTendency : 108.73139325453904\n",
      "\t original_gldm_GrayLevelVariance : 39.19271419906397\n",
      "\t original_gldm_HighGrayLevelEmphasis : 280.4065748126662\n",
      "\t original_gldm_DependenceEntropy : 6.885019899269458\n",
      "\t original_gldm_DependenceNonUniformity : 936.6601401982113\n",
      "\t original_gldm_GrayLevelNonUniformity : 186.8143582306019\n",
      "\t original_gldm_SmallDependenceEmphasis : 0.37960167130711403\n",
      "\t original_gldm_SmallDependenceHighGrayLevelEmphasis : 110.30563945728201\n",
      "\t original_gldm_DependenceNonUniformityNormalized : 0.22641047623838803\n",
      "\t original_gldm_LargeDependenceEmphasis : 8.661590524534686\n",
      "\t original_gldm_LargeDependenceLowGrayLevelEmphasis : 0.07650590736710827\n",
      "\t original_gldm_DependenceVariance : 2.1619872286911965\n",
      "\t original_gldm_LargeDependenceHighGrayLevelEmphasis : 2335.0519700265895\n",
      "\t original_gldm_SmallDependenceLowGrayLevelEmphasis : 0.0035453562622343696\n",
      "\t original_gldm_LowGrayLevelEmphasis : 0.00860027409479837\n",
      "\t original_firstorder_InterquartileRange : 253.0\n",
      "\t original_firstorder_Skewness : 0.27565085908587594\n",
      "\t original_firstorder_Uniformity : 0.045156963555862184\n",
      "\t original_firstorder_Median : 812.0\n",
      "\t original_firstorder_Energy : 2918821481.0\n",
      "\t original_firstorder_RobustMeanAbsoluteDeviation : 103.00138343026681\n",
      "\t original_firstorder_MeanAbsoluteDeviation : 133.44726195252767\n",
      "\t original_firstorder_TotalEnergy : 11579797135.314934\n",
      "\t original_firstorder_Maximum : 1266.0\n",
      "\t original_firstorder_RootMeanSquared : 839.9646448180755\n",
      "\t original_firstorder_90Percentile : 1044.4\n",
      "\t original_firstorder_Minimum : 468.0\n",
      "\t original_firstorder_Entropy : 4.601935553903797\n",
      "\t original_firstorder_Range : 798.0\n",
      "\t original_firstorder_Variance : 24527.07920837261\n",
      "\t original_firstorder_10Percentile : 632.0\n",
      "\t original_firstorder_Kurtosis : 2.1807729393860265\n",
      "\t original_firstorder_Mean : 825.2354363065023\n",
      "\t original_glrlm_ShortRunLowGrayLevelEmphasis : 0.008229766244155428\n",
      "\t original_glrlm_GrayLevelVariance : 39.11815102197925\n",
      "\t original_glrlm_LowGrayLevelRunEmphasis : 0.008600397891661503\n",
      "\t original_glrlm_GrayLevelNonUniformityNormalized : 0.04514123814981055\n",
      "\t original_glrlm_RunVariance : 0.08479457789590625\n",
      "\t original_glrlm_GrayLevelNonUniformity : 175.6351923150419\n",
      "\t original_glrlm_LongRunEmphasis : 1.2268440382584342\n",
      "\t original_glrlm_ShortRunHighGrayLevelEmphasis : 268.97417984113076\n",
      "\t original_glrlm_RunLengthNonUniformity : 3500.0432315746298\n",
      "\t original_glrlm_ShortRunEmphasis : 0.9559391731405504\n",
      "\t original_glrlm_LongRunHighGrayLevelEmphasis : 341.2865790983503\n",
      "\t original_glrlm_RunPercentage : 0.9404064632491029\n",
      "\t original_glrlm_LongRunLowGrayLevelEmphasis : 0.010601170478748763\n",
      "\t original_glrlm_RunEntropy : 4.915038003159503\n",
      "\t original_glrlm_HighGrayLevelRunEmphasis : 281.06649390897206\n",
      "\t original_glrlm_RunLengthNonUniformityNormalized : 0.8950494659480996\n",
      "\t original_glszm_GrayLevelVariance : 40.60313992393263\n",
      "\t original_glszm_ZoneVariance : 8.721239097486347\n",
      "\t original_glszm_GrayLevelNonUniformityNormalized : 0.044057307901283996\n",
      "\t original_glszm_SizeZoneNonUniformityNormalized : 0.3997843804512568\n",
      "\t original_glszm_SizeZoneNonUniformity : 747.5967914438503\n",
      "\t original_glszm_GrayLevelNonUniformity : 82.38716577540107\n",
      "\t original_glszm_LargeAreaEmphasis : 13.615508021390374\n",
      "\t original_glszm_SmallAreaHighGrayLevelEmphasis : 193.438051925864\n",
      "\t original_glszm_ZonePercentage : 0.4520183708000967\n",
      "\t original_glszm_LargeAreaLowGrayLevelEmphasis : 0.12723841553344326\n",
      "\t original_glszm_LargeAreaHighGrayLevelEmphasis : 3514.7614973262034\n",
      "\t original_glszm_HighGrayLevelZoneEmphasis : 288.6235294117647\n",
      "\t original_glszm_SmallAreaEmphasis : 0.6564478999587141\n",
      "\t original_glszm_LowGrayLevelZoneEmphasis : 0.009100942027706215\n",
      "\t original_glszm_ZoneEntropy : 6.50821498619819\n",
      "\t original_glszm_SmallAreaLowGrayLevelEmphasis : 0.006416982055097711\n"
     ]
    }
   ],
   "source": [
    "print('Result type:', type(result))  # result is returned in a Python ordered dictionary)\n",
    "print('')\n",
    "print('Calculated features')\n",
    "for key, value in six.iteritems(result):\n",
    "    print('\\t', key, ':', value)"
   ]
  }
 ],
 "metadata": {
  "kernelspec": {
   "display_name": "Python 3",
   "language": "python",
   "name": "python3"
  },
  "language_info": {
   "codemirror_mode": {
    "name": "ipython",
    "version": 3
   },
   "file_extension": ".py",
   "mimetype": "text/x-python",
   "name": "python",
   "nbconvert_exporter": "python",
   "pygments_lexer": "ipython3",
   "version": "3.7.2"
  }
 },
 "nbformat": 4,
 "nbformat_minor": 1
}
