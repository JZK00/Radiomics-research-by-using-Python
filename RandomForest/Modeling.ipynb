{
 "cells": [
  {
   "cell_type": "markdown",
   "metadata": {},
   "source": [
    "# 读取文件，**写文件名"
   ]
  },
  {
   "cell_type": "code",
   "execution_count": 1,
   "metadata": {},
   "outputs": [
    {
     "name": "stdout",
     "output_type": "stream",
     "text": [
      "<class 'pandas.core.frame.DataFrame'>\n",
      "RangeIndex: 188 entries, 0 to 187\n",
      "Data columns (total 11 columns):\n",
      "edema_T1WI_squareroot_glrlm_RunPercentage                       188 non-null float64\n",
      "edema_T1WI_wavelet-LH_glrlm_RunLengthNonUniformityNormalized    188 non-null float64\n",
      "edema_T2WI_wavelet-HL_gldm_DependenceNonUniformityNormalized    188 non-null float64\n",
      "edema_T2WI_square_glrlm_GrayLevelNonUniformityNormalized        188 non-null float64\n",
      "edema_T1WI_squareroot_glcm_DifferenceAverage                    188 non-null float64\n",
      "edema_T1WI_wavelet-HH_glcm_MaximumProbability                   188 non-null float64\n",
      "edema_T2-FLAIR_log-sigma-4-0-mm-3D_glcm_DifferenceEntropy       188 non-null float64\n",
      "edema_ADC_wavelet-LL_glcm_DifferenceAverage                     188 non-null float64\n",
      "edema_ADC_squareroot_firstorder_RobustMeanAbsoluteDeviation     188 non-null float64\n",
      "edema_ADC_wavelet-LL_firstorder_Entropy                         188 non-null float64\n",
      "Y                                                               188 non-null object\n",
      "dtypes: float64(10), object(1)\n",
      "memory usage: 16.2+ KB\n"
     ]
    }
   ],
   "source": [
    "import pandas as pd\n",
    "df = pd.read_csv('**.csv')\n",
    "df.info()"
   ]
  },
  {
   "cell_type": "markdown",
   "metadata": {},
   "source": [
    "# 数据预处理，去除一些缺失值"
   ]
  },
  {
   "cell_type": "code",
   "execution_count": 2,
   "metadata": {},
   "outputs": [
    {
     "name": "stdout",
     "output_type": "stream",
     "text": [
      "<class 'pandas.core.frame.DataFrame'>\n",
      "Int64Index: 188 entries, 0 to 187\n",
      "Data columns (total 11 columns):\n",
      "edema_T1WI_squareroot_glrlm_RunPercentage                       188 non-null float64\n",
      "edema_T1WI_wavelet-LH_glrlm_RunLengthNonUniformityNormalized    188 non-null float64\n",
      "edema_T2WI_wavelet-HL_gldm_DependenceNonUniformityNormalized    188 non-null float64\n",
      "edema_T2WI_square_glrlm_GrayLevelNonUniformityNormalized        188 non-null float64\n",
      "edema_T1WI_squareroot_glcm_DifferenceAverage                    188 non-null float64\n",
      "edema_T1WI_wavelet-HH_glcm_MaximumProbability                   188 non-null float64\n",
      "edema_T2-FLAIR_log-sigma-4-0-mm-3D_glcm_DifferenceEntropy       188 non-null float64\n",
      "edema_ADC_wavelet-LL_glcm_DifferenceAverage                     188 non-null float64\n",
      "edema_ADC_squareroot_firstorder_RobustMeanAbsoluteDeviation     188 non-null float64\n",
      "edema_ADC_wavelet-LL_firstorder_Entropy                         188 non-null float64\n",
      "Y                                                               188 non-null object\n",
      "dtypes: float64(10), object(1)\n",
      "memory usage: 17.6+ KB\n"
     ]
    }
   ],
   "source": [
    "df_drop = df.dropna(axis=0)\n",
    "df_drop.info()"
   ]
  },
  {
   "cell_type": "code",
   "execution_count": 3,
   "metadata": {},
   "outputs": [
    {
     "name": "stdout",
     "output_type": "stream",
     "text": [
      "<class 'pandas.core.frame.DataFrame'>\n",
      "Int64Index: 188 entries, 0 to 187\n",
      "Data columns (total 11 columns):\n",
      "edema_T1WI_squareroot_glrlm_RunPercentage                       188 non-null float64\n",
      "edema_T1WI_wavelet-LH_glrlm_RunLengthNonUniformityNormalized    188 non-null float64\n",
      "edema_T2WI_wavelet-HL_gldm_DependenceNonUniformityNormalized    188 non-null float64\n",
      "edema_T2WI_square_glrlm_GrayLevelNonUniformityNormalized        188 non-null float64\n",
      "edema_T1WI_squareroot_glcm_DifferenceAverage                    188 non-null float64\n",
      "edema_T1WI_wavelet-HH_glcm_MaximumProbability                   188 non-null float64\n",
      "edema_T2-FLAIR_log-sigma-4-0-mm-3D_glcm_DifferenceEntropy       188 non-null float64\n",
      "edema_ADC_wavelet-LL_glcm_DifferenceAverage                     188 non-null float64\n",
      "edema_ADC_squareroot_firstorder_RobustMeanAbsoluteDeviation     188 non-null float64\n",
      "edema_ADC_wavelet-LL_firstorder_Entropy                         188 non-null float64\n",
      "Y                                                               188 non-null object\n",
      "dtypes: float64(10), object(1)\n",
      "memory usage: 17.6+ KB\n"
     ]
    }
   ],
   "source": [
    "import numpy as np\n",
    "df_drop.replace([np.inf, -np.inf],np.nan,inplace=True)\n",
    "df_drop.fillna(0,inplace=True)\n",
    "df_drop.info()"
   ]
  },
  {
   "cell_type": "markdown",
   "metadata": {},
   "source": [
    "# 赋标签，Y指label值，换成自己的label名称"
   ]
  },
  {
   "cell_type": "code",
   "execution_count": 4,
   "metadata": {},
   "outputs": [
    {
     "data": {
      "text/plain": [
       "{'NS': 0, 'S': 1}"
      ]
     },
     "execution_count": 4,
     "metadata": {},
     "output_type": "execute_result"
    }
   ],
   "source": [
    "class_mapping = {label: idx for idx, label in enumerate(np.unique(df_drop['Y']))}\n",
    "class_mapping"
   ]
  },
  {
   "cell_type": "markdown",
   "metadata": {},
   "source": [
    "# X选择label之外的列，y为label列"
   ]
  },
  {
   "cell_type": "code",
   "execution_count": 5,
   "metadata": {},
   "outputs": [
    {
     "name": "stdout",
     "output_type": "stream",
     "text": [
      "(188,)\n",
      "(188, 10)\n"
     ]
    }
   ],
   "source": [
    "from sklearn.preprocessing import LabelEncoder\n",
    "df_drop['Y'] = df_drop['Y'].map(class_mapping)\n",
    "y = LabelEncoder().fit_transform(df_drop['Y'].values)\n",
    "X = df_drop.iloc[:, 0:10].values\n",
    "print(y.shape)\n",
    "print(X.shape)"
   ]
  },
  {
   "cell_type": "markdown",
   "metadata": {},
   "source": [
    "# 获取每列的名称"
   ]
  },
  {
   "cell_type": "code",
   "execution_count": 6,
   "metadata": {},
   "outputs": [],
   "source": [
    "feat_labels = df_drop.columns[0:10]"
   ]
  },
  {
   "cell_type": "markdown",
   "metadata": {},
   "source": [
    "# 数据标准化"
   ]
  },
  {
   "cell_type": "code",
   "execution_count": 7,
   "metadata": {},
   "outputs": [
    {
     "name": "stdout",
     "output_type": "stream",
     "text": [
      "(188, 10)\n"
     ]
    }
   ],
   "source": [
    "from sklearn.preprocessing import StandardScaler\n",
    "stdsc = StandardScaler()\n",
    "X_std = stdsc.fit_transform(X)\n",
    "print(X_std.shape)"
   ]
  },
  {
   "cell_type": "markdown",
   "metadata": {},
   "source": [
    "# 随机森林评分特征"
   ]
  },
  {
   "cell_type": "code",
   "execution_count": 12,
   "metadata": {},
   "outputs": [
    {
     "data": {
      "image/png": "[encoded data removed]",
      "text/plain": [
       "<Figure size 432x288 with 1 Axes>"
      ]
     },
     "metadata": {
      "needs_background": "light"
     },
     "output_type": "display_data"
    }
   ],
   "source": [
    "from sklearn.model_selection import StratifiedKFold\n",
    "from sklearn.metrics import roc_curve\n",
    "from sklearn.metrics import auc\n",
    "from scipy import interp\n",
    "import matplotlib.pyplot as plt\n",
    "%matplotlib inline\n",
    "from sklearn.ensemble import RandomForestClassifier\n",
    "forest = RandomForestClassifier(bootstrap=True,criterion='gini',oob_score=True,n_jobs=-1,\n",
    "                                max_features='sqrt',n_estimators=500,min_samples_leaf=10,\n",
    "                                random_state=50)\n",
    "cv = StratifiedKFold(n_splits=5)\n",
    "classifier = forest\n",
    "tprs = []\n",
    "aucs = []\n",
    "mean_fpr = np.linspace(0, 1, 100)\n",
    "i = 0\n",
    "for train, test in cv.split(X_std, y):\n",
    "    probas_ = classifier.fit(X_std[train], y[train]).predict_proba(X_std[test])\n",
    "    # Compute ROC curve and area the curve\n",
    "    fpr, tpr, thresholds = roc_curve(y[test], probas_[:, 1])\n",
    "    tprs.append(interp(mean_fpr, fpr, tpr))\n",
    "    tprs[-1][0] = 0.0\n",
    "    roc_auc = auc(fpr, tpr)\n",
    "    aucs.append(roc_auc)\n",
    "    #plt.plot(fpr, tpr, lw=1, alpha=0.3,label='ROC fold %d (AUC = %0.2f)' % (i, roc_auc))\n",
    "    i += 1\n",
    "plt.plot([0, 1], [0, 1], linestyle='--', lw=2, color='r',label='Chance', alpha=.8)\n",
    "mean_tpr = np.mean(tprs, axis=0)\n",
    "mean_tpr[-1] = 1.0\n",
    "mean_auc = auc(mean_fpr, mean_tpr)\n",
    "std_auc = np.std(aucs)\n",
    "plt.plot(mean_fpr, mean_tpr, color='b',label=r'Mean ROC (AUC = %0.2f $\\pm$ %0.2f)' % (mean_auc, std_auc),lw=2, alpha=.8)\n",
    "std_tpr = np.std(tprs, axis=0)\n",
    "tprs_upper = np.minimum(mean_tpr + std_tpr, 1)\n",
    "tprs_lower = np.maximum(mean_tpr - std_tpr, 0)\n",
    "plt.fill_between(mean_fpr, tprs_lower, tprs_upper, color='grey', alpha=.2,label=r'$\\pm$ 1 std. dev.')\n",
    "plt.xlim([-0, 1])\n",
    "plt.ylim([-0, 1])\n",
    "plt.xlabel('False Positive Rate')\n",
    "plt.ylabel('True Positive Rate')\n",
    "plt.title('RFTE   ROC')\n",
    "plt.legend(loc=\"lower right\" ,\n",
    "           #fontsize = 'xx-small'\n",
    "          )\n",
    "#plt.savefig('RFTC_ROC1.jpg',dpi=1200)\n",
    "plt.show()"
   ]
  },
  {
   "cell_type": "markdown",
   "metadata": {},
   "source": [
    "# 保存最终学习到的模型"
   ]
  },
  {
   "cell_type": "code",
   "execution_count": null,
   "metadata": {},
   "outputs": [],
   "source": [
    "from sklearn.externals import joblib\n",
    "joblib.dump(classifier, 'train.pkl')"
   ]
  }
 ],
 "metadata": {
  "kernelspec": {
   "display_name": "Python 36",
   "language": "python",
   "name": "python3"
  },
  "language_info": {
   "codemirror_mode": {
    "name": "ipython",
    "version": 3
   },
   "file_extension": ".py",
   "mimetype": "text/x-python",
   "name": "python",
   "nbconvert_exporter": "python",
   "pygments_lexer": "ipython3",
   "version": "3.6.6rc1"
  }
 },
 "nbformat": 4,
 "nbformat_minor": 2
}
